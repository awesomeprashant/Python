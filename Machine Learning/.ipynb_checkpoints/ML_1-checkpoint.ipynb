{
 "cells": [
  {
   "cell_type": "code",
   "execution_count": 2,
   "metadata": {
    "collapsed": false
   },
   "outputs": [
    {
     "name": "stdout",
     "output_type": "stream",
     "text": [
      "D:\\Prashant\\Learning\\coursera\\Machine Learning\\machine-learning-ex1\\ex1\n"
     ]
    }
   ],
   "source": [
    "cd D:\\Prashant\\Learning\\coursera\\Machine Learning\\machine-learning-ex1\\ex1"
   ]
  },
  {
   "cell_type": "code",
   "execution_count": 330,
   "metadata": {
    "collapsed": false
   },
   "outputs": [
    {
     "name": "stdout",
     "output_type": "stream",
     "text": [
      "<class 'pandas.core.frame.DataFrame'>\n"
     ]
    },
    {
     "data": {
      "image/png": "[encoded data removed]",
      "text/plain": [
       "<matplotlib.figure.Figure at 0x5efa652a20>"
      ]
     },
     "metadata": {},
     "output_type": "display_data"
    }
   ],
   "source": [
    "import pandas as pd\n",
    "import matplotlib.pyplot as plt\n",
    "import numpy as np\n",
    "df = pd.read_csv('ex1data1.txt',skiprows=0,header=None)\n",
    "X = pd.DataFrame(df[0])\n",
    "y = (df[1])\n",
    "m = len(y)\n",
    "print(type(X))\n",
    "plt.scatter(X,y)\n",
    "plt.show()\n"
   ]
  },
  {
   "cell_type": "code",
   "execution_count": 345,
   "metadata": {
    "collapsed": false
   },
   "outputs": [
    {
     "name": "stdout",
     "output_type": "stream",
     "text": [
      "1    32.072734\n",
      "dtype: float64           0\n",
      "0 -3.630291\n",
      "1  1.166362\n"
     ]
    }
   ],
   "source": [
    "def computeCost(x, y, theta) :\n",
    "    m = len(y)\n",
    "    y = pd.DataFrame(y) #convert to dataframe for matrix computations\n",
    "    #use numpy.dot() function for matrix multiplication\n",
    "    h=np.dot(x,theta)\n",
    "\n",
    "    #print(y.shape)\n",
    "    J=np.sum((h-y)*(h-y))\n",
    "    J=J/(2*m)\n",
    "    return J\n",
    "\n",
    "def gradientDescent(x, y, theta, alpha, num_iters):\n",
    "    m = len(y) # number of training examples\n",
    "    for iter in range(num_iters) :\n",
    "        #use numpy.dot() function for matrix multiplication\n",
    "        h=np.multiply(x[0],(theta.loc[0])) + np.multiply(x[1],(theta.loc[1]))\n",
    "        #print(h.head())\n",
    "        #h=np.dot(x,theta)\n",
    "        #theta.loc[0] = theta.loc[0]-((np.multiply(sum(pd.DataFrame(h),-y),pd.DataFrame(x[0])).sum()[1])*(alpha/m))\n",
    "        #theta.loc[1] = theta.loc[1]-((np.multiply(sum(pd.DataFrame(h),-y),pd.DataFrame(x[1])).sum()[1])*(alpha/m))\n",
    "        theta.loc[0] = theta.loc[0]-sum((h-y)*X1[0])*(alpha/m)\n",
    "        theta.loc[1] = theta.loc[1]-sum((h-y)*X1[1])*(alpha/m)\n",
    "        #print(theta)\n",
    "        iter=iter+1\n",
    "    \n",
    "    return theta\n",
    "\n",
    "# Add a column of ones to x\n",
    "ones = pd.Series(np.ones(shape=(len(df))))\n",
    "X1 = pd.DataFrame(ones)\n",
    "X1[1] = pd.DataFrame(X)\n",
    "\n",
    "# initialize fitting parameters\n",
    "theta = pd.DataFrame([0,0])\n",
    "\n",
    "# Some gradient descent settings\n",
    "iterations = 1500\n",
    "alpha = 0.01\n",
    "#print(X1.shape)\n",
    "J = computeCost(X1, y, theta)\n",
    "theta = gradientDescent(X1, y, theta, alpha, iterations);\n",
    "\n",
    "print(J,theta)\n",
    "#plt.scatter(X,y)\n",
    "#plt.plot(X1[1],X1[1])\n",
    "#plt.show()"
   ]
  },
  {
   "cell_type": "code",
   "execution_count": 113,
   "metadata": {
    "collapsed": false
   },
   "outputs": [],
   "source": [
    "\n"
   ]
  },
  {
   "cell_type": "code",
   "execution_count": null,
   "metadata": {
    "collapsed": false
   },
   "outputs": [],
   "source": []
  },
  {
   "cell_type": "code",
   "execution_count": null,
   "metadata": {
    "collapsed": true
   },
   "outputs": [],
   "source": []
  }
 ],
 "metadata": {
  "anaconda-cloud": {},
  "kernelspec": {
   "display_name": "Python [conda root]",
   "language": "python",
   "name": "conda-root-py"
  },
  "language_info": {
   "codemirror_mode": {
    "name": "ipython",
    "version": 3
   },
   "file_extension": ".py",
   "mimetype": "text/x-python",
   "name": "python",
   "nbconvert_exporter": "python",
   "pygments_lexer": "ipython3",
   "version": "3.5.2"
  }
 },
 "nbformat": 4,
 "nbformat_minor": 1
}
