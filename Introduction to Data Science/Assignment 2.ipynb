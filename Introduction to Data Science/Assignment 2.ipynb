{
 "cells": [
  {
   "cell_type": "markdown",
   "metadata": {},
   "source": [
    "---\n",
    "\n",
    "_You are currently looking at **version 1.2** of this notebook. To download notebooks and datafiles, as well as get help on Jupyter notebooks in the Coursera platform, visit the [Jupyter Notebook FAQ](https://www.coursera.org/learn/python-data-analysis/resources/0dhYG) course resource._\n",
    "\n",
    "---"
   ]
  },
  {
   "cell_type": "markdown",
   "metadata": {},
   "source": [
    "# Assignment 2 - Pandas Introduction\n",
    "All questions are weighted the same in this assignment.\n",
    "## Part 1\n",
    "The following code loads the olympics dataset (olympics.csv), which was derrived from the Wikipedia entry on [All Time Olympic Games Medals](https://en.wikipedia.org/wiki/All-time_Olympic_Games_medal_table), and does some basic data cleaning. \n",
    "\n",
    "The columns are organized as # of Summer games, Summer medals, # of Winter games, Winter medals, total # number of games, total # of medals. Use this dataset to answer the questions below."
   ]
  },
  {
   "cell_type": "code",
   "execution_count": 1,
   "metadata": {
    "collapsed": false,
    "nbgrader": {
     "grade": false,
     "grade_id": "1",
     "locked": false,
     "solution": false
    },
    "scrolled": false
   },
   "outputs": [
    {
     "data": {
      "text/html": [
       "<div>\n",
       "<table border=\"1\" class=\"dataframe\">\n",
       "  <thead>\n",
       "    <tr style=\"text-align: right;\">\n",
       "      <th></th>\n",
       "      <th># Summer</th>\n",
       "      <th>Gold</th>\n",
       "      <th>Silver</th>\n",
       "      <th>Bronze</th>\n",
       "      <th>Total</th>\n",
       "      <th># Winter</th>\n",
       "      <th>Gold.1</th>\n",
       "      <th>Silver.1</th>\n",
       "      <th>Bronze.1</th>\n",
       "      <th>Total.1</th>\n",
       "      <th># Games</th>\n",
       "      <th>Gold.2</th>\n",
       "      <th>Silver.2</th>\n",
       "      <th>Bronze.2</th>\n",
       "      <th>Combined total</th>\n",
       "      <th>ID</th>\n",
       "    </tr>\n",
       "  </thead>\n",
       "  <tbody>\n",
       "    <tr>\n",
       "      <th>Afghanistan</th>\n",
       "      <td>13</td>\n",
       "      <td>0</td>\n",
       "      <td>0</td>\n",
       "      <td>2</td>\n",
       "      <td>2</td>\n",
       "      <td>0</td>\n",
       "      <td>0</td>\n",
       "      <td>0</td>\n",
       "      <td>0</td>\n",
       "      <td>0</td>\n",
       "      <td>13</td>\n",
       "      <td>0</td>\n",
       "      <td>0</td>\n",
       "      <td>2</td>\n",
       "      <td>2</td>\n",
       "      <td>AFG</td>\n",
       "    </tr>\n",
       "    <tr>\n",
       "      <th>Algeria</th>\n",
       "      <td>12</td>\n",
       "      <td>5</td>\n",
       "      <td>2</td>\n",
       "      <td>8</td>\n",
       "      <td>15</td>\n",
       "      <td>3</td>\n",
       "      <td>0</td>\n",
       "      <td>0</td>\n",
       "      <td>0</td>\n",
       "      <td>0</td>\n",
       "      <td>15</td>\n",
       "      <td>5</td>\n",
       "      <td>2</td>\n",
       "      <td>8</td>\n",
       "      <td>15</td>\n",
       "      <td>ALG</td>\n",
       "    </tr>\n",
       "    <tr>\n",
       "      <th>Argentina</th>\n",
       "      <td>23</td>\n",
       "      <td>18</td>\n",
       "      <td>24</td>\n",
       "      <td>28</td>\n",
       "      <td>70</td>\n",
       "      <td>18</td>\n",
       "      <td>0</td>\n",
       "      <td>0</td>\n",
       "      <td>0</td>\n",
       "      <td>0</td>\n",
       "      <td>41</td>\n",
       "      <td>18</td>\n",
       "      <td>24</td>\n",
       "      <td>28</td>\n",
       "      <td>70</td>\n",
       "      <td>ARG</td>\n",
       "    </tr>\n",
       "    <tr>\n",
       "      <th>Armenia</th>\n",
       "      <td>5</td>\n",
       "      <td>1</td>\n",
       "      <td>2</td>\n",
       "      <td>9</td>\n",
       "      <td>12</td>\n",
       "      <td>6</td>\n",
       "      <td>0</td>\n",
       "      <td>0</td>\n",
       "      <td>0</td>\n",
       "      <td>0</td>\n",
       "      <td>11</td>\n",
       "      <td>1</td>\n",
       "      <td>2</td>\n",
       "      <td>9</td>\n",
       "      <td>12</td>\n",
       "      <td>ARM</td>\n",
       "    </tr>\n",
       "    <tr>\n",
       "      <th>Australasia</th>\n",
       "      <td>2</td>\n",
       "      <td>3</td>\n",
       "      <td>4</td>\n",
       "      <td>5</td>\n",
       "      <td>12</td>\n",
       "      <td>0</td>\n",
       "      <td>0</td>\n",
       "      <td>0</td>\n",
       "      <td>0</td>\n",
       "      <td>0</td>\n",
       "      <td>2</td>\n",
       "      <td>3</td>\n",
       "      <td>4</td>\n",
       "      <td>5</td>\n",
       "      <td>12</td>\n",
       "      <td>ANZ</td>\n",
       "    </tr>\n",
       "  </tbody>\n",
       "</table>\n",
       "</div>"
      ],
      "text/plain": [
       "             # Summer  Gold  Silver  Bronze  Total  # Winter  Gold.1  \\\n",
       "Afghanistan        13     0       0       2      2         0       0   \n",
       "Algeria            12     5       2       8     15         3       0   \n",
       "Argentina          23    18      24      28     70        18       0   \n",
       "Armenia             5     1       2       9     12         6       0   \n",
       "Australasia         2     3       4       5     12         0       0   \n",
       "\n",
       "             Silver.1  Bronze.1  Total.1  # Games  Gold.2  Silver.2  Bronze.2  \\\n",
       "Afghanistan         0         0        0       13       0         0         2   \n",
       "Algeria             0         0        0       15       5         2         8   \n",
       "Argentina           0         0        0       41      18        24        28   \n",
       "Armenia             0         0        0       11       1         2         9   \n",
       "Australasia         0         0        0        2       3         4         5   \n",
       "\n",
       "             Combined total   ID  \n",
       "Afghanistan               2  AFG  \n",
       "Algeria                  15  ALG  \n",
       "Argentina                70  ARG  \n",
       "Armenia                  12  ARM  \n",
       "Australasia              12  ANZ  "
      ]
     },
     "execution_count": 1,
     "metadata": {},
     "output_type": "execute_result"
    }
   ],
   "source": [
    "import pandas as pd\n",
    "\n",
    "df = pd.read_csv('olympics.csv', index_col=0, skiprows=1)\n",
    "\n",
    "for col in df.columns:\n",
    "    if col[:2]=='01':\n",
    "        df.rename(columns={col:'Gold'+col[4:]}, inplace=True)\n",
    "    if col[:2]=='02':\n",
    "        df.rename(columns={col:'Silver'+col[4:]}, inplace=True)\n",
    "    if col[:2]=='03':\n",
    "        df.rename(columns={col:'Bronze'+col[4:]}, inplace=True)\n",
    "    if col[:1]=='№':\n",
    "        df.rename(columns={col:'#'+col[1:]}, inplace=True)\n",
    "\n",
    "names_ids = df.index.str.split('\\s\\(') # split the index by '('\n",
    "\n",
    "df.index = names_ids.str[0] # the [0] element is the country name (new index) \n",
    "df['ID'] = names_ids.str[1].str[:3] # the [1] element is the abbreviation or ID (take first 3 characters from that)\n",
    "\n",
    "df = df.drop('Totals')\n",
    "df.head()"
   ]
  },
  {
   "cell_type": "markdown",
   "metadata": {},
   "source": [
    "### Question 0 (Example)\n",
    "\n",
    "What is the first country in df?\n",
    "\n",
    "*This function should return a Series.*"
   ]
  },
  {
   "cell_type": "code",
   "execution_count": 2,
   "metadata": {
    "collapsed": false
   },
   "outputs": [
    {
     "data": {
      "text/plain": [
       "# Summer           13\n",
       "Gold                0\n",
       "Silver              0\n",
       "Bronze              2\n",
       "Total               2\n",
       "# Winter            0\n",
       "Gold.1              0\n",
       "Silver.1            0\n",
       "Bronze.1            0\n",
       "Total.1             0\n",
       "# Games            13\n",
       "Gold.2              0\n",
       "Silver.2            0\n",
       "Bronze.2            2\n",
       "Combined total      2\n",
       "ID                AFG\n",
       "Name: Afghanistan, dtype: object"
      ]
     },
     "execution_count": 2,
     "metadata": {},
     "output_type": "execute_result"
    }
   ],
   "source": [
    "# You should write your whole answer within the function provided. The autograder will call\n",
    "# this function and compare the return value against the correct solution value\n",
    "def answer_zero():\n",
    "    # This function returns the row for Afghanistan, which is a Series object. The assignment\n",
    "    # question description will tell you the general format the autograder is expecting\n",
    "    return df.iloc[0]\n",
    "\n",
    "# You can examine what your function returns by calling it in the cell. If you have questions\n",
    "# about the assignment formats, check out the discussion forums for any FAQs\n",
    "answer_zero()"
   ]
  },
  {
   "cell_type": "markdown",
   "metadata": {},
   "source": [
    "### Question 1\n",
    "Which country has won the most gold medals in summer games?\n",
    "\n",
    "*This function should return a single string value.*"
   ]
  },
  {
   "cell_type": "code",
   "execution_count": 3,
   "metadata": {
    "collapsed": false,
    "nbgrader": {
     "grade": false,
     "locked": false,
     "solution": false
    }
   },
   "outputs": [
    {
     "data": {
      "text/plain": [
       "'United States'"
      ]
     },
     "execution_count": 3,
     "metadata": {},
     "output_type": "execute_result"
    }
   ],
   "source": [
    "def answer_one():\n",
    "    max_gold=df[df['Gold']==df['Gold'].max()]\n",
    "    #max_gold = max_gold.reset_index()\n",
    "    return max_gold.iloc[0].name\n",
    "answer_one()"
   ]
  },
  {
   "cell_type": "markdown",
   "metadata": {},
   "source": [
    "### Question 2\n",
    "Which country had the biggest difference between their summer and winter gold medal counts?\n",
    "\n",
    "*This function should return a single string value.*"
   ]
  },
  {
   "cell_type": "code",
   "execution_count": 4,
   "metadata": {
    "collapsed": false
   },
   "outputs": [
    {
     "data": {
      "text/plain": [
       "'United States'"
      ]
     },
     "execution_count": 4,
     "metadata": {},
     "output_type": "execute_result"
    }
   ],
   "source": [
    "def answer_two():\n",
    "    max_diff_gold = df[df['Gold']-df['Gold.1']==abs(df['Gold']-df['Gold.1']).max()]\n",
    "    #max_diff_gold = max_diff_gold.reset_index()\n",
    "    return max_diff_gold.iloc[0].name\n",
    "answer_two()"
   ]
  },
  {
   "cell_type": "markdown",
   "metadata": {},
   "source": [
    "### Question 3\n",
    "Which country has the biggest difference between their summer gold medal counts and winter gold medal counts relative to their total gold medal count? \n",
    "\n",
    "$$\\frac{Summer~Gold - Winter~Gold}{Total~Gold}$$\n",
    "\n",
    "Only include countries that have won at least 1 gold in both summer and winter.\n",
    "\n",
    "*This function should return a single string value.*"
   ]
  },
  {
   "cell_type": "code",
   "execution_count": 5,
   "metadata": {
    "collapsed": false
   },
   "outputs": [
    {
     "data": {
      "text/plain": [
       "'Bulgaria'"
      ]
     },
     "execution_count": 5,
     "metadata": {},
     "output_type": "execute_result"
    }
   ],
   "source": [
    "def answer_three():\n",
    "    more_than_one_gold = df[(df['Gold.1']>0) & (df['Gold']>0)]\n",
    "\n",
    "    max_ratio =(abs(more_than_one_gold['Gold']-more_than_one_gold['Gold.1'])/\n",
    "                          more_than_one_gold['Gold.2']).max()\n",
    "    ans3 = more_than_one_gold[(abs(more_than_one_gold['Gold']-more_than_one_gold['Gold.1'])/\n",
    "                          more_than_one_gold['Gold.2'])==max_ratio]\n",
    "    #ans3 = ans3.reset_index()\n",
    "    return ans3.iloc[0].name\n",
    "answer_three()"
   ]
  },
  {
   "cell_type": "markdown",
   "metadata": {},
   "source": [
    "### Question 4\n",
    "Write a function that creates a Series called \"Points\" which is a weighted value where each gold medal (`Gold.2`) counts for 3 points, silver medals (`Silver.2`) for 2 points, and bronze medals (`Bronze.2`) for 1 point. The function should return only the column (a Series object) which you created.\n",
    "\n",
    "*This function should return a Series named `Points` of length 146*"
   ]
  },
  {
   "cell_type": "code",
   "execution_count": 6,
   "metadata": {
    "collapsed": false
   },
   "outputs": [
    {
     "data": {
      "text/plain": [
       "Afghanistan                            2\n",
       "Algeria                               27\n",
       "Argentina                            130\n",
       "Armenia                               16\n",
       "Australasia                           22\n",
       "Australia                            923\n",
       "Austria                              569\n",
       "Azerbaijan                            43\n",
       "Bahamas                               24\n",
       "Bahrain                                1\n",
       "Barbados                               1\n",
       "Belarus                              154\n",
       "Belgium                              276\n",
       "Bermuda                                1\n",
       "Bohemia                                5\n",
       "Botswana                               2\n",
       "Brazil                               184\n",
       "British West Indies                    2\n",
       "Bulgaria                             411\n",
       "Burundi                                3\n",
       "Cameroon                              12\n",
       "Canada                               846\n",
       "Chile                                 24\n",
       "China                               1120\n",
       "Colombia                              29\n",
       "Costa Rica                             7\n",
       "Ivory Coast                            2\n",
       "Croatia                               67\n",
       "Cuba                                 420\n",
       "Cyprus                                 2\n",
       "                                    ... \n",
       "Spain                                268\n",
       "Sri Lanka                              4\n",
       "Sudan                                  2\n",
       "Suriname                               4\n",
       "Sweden                              1217\n",
       "Switzerland                          630\n",
       "Syria                                  6\n",
       "Chinese Taipei                        32\n",
       "Tajikistan                             4\n",
       "Tanzania                               4\n",
       "Thailand                              44\n",
       "Togo                                   1\n",
       "Tonga                                  2\n",
       "Trinidad and Tobago                   27\n",
       "Tunisia                               19\n",
       "Turkey                               191\n",
       "Uganda                                14\n",
       "Ukraine                              220\n",
       "United Arab Emirates                   3\n",
       "United States                       5684\n",
       "Uruguay                               16\n",
       "Uzbekistan                            38\n",
       "Venezuela                             18\n",
       "Vietnam                                4\n",
       "Virgin Islands                         2\n",
       "Yugoslavia                           171\n",
       "Independent Olympic Participants       4\n",
       "Zambia                                 3\n",
       "Zimbabwe                              18\n",
       "Mixed team                            38\n",
       "dtype: int64"
      ]
     },
     "execution_count": 6,
     "metadata": {},
     "output_type": "execute_result"
    }
   ],
   "source": [
    "def answer_four():\n",
    "    Points = df['Gold.2']*3+df['Silver.2']*2+df['Bronze.2']*1\n",
    "    return Points\n",
    "answer_four()"
   ]
  },
  {
   "cell_type": "markdown",
   "metadata": {},
   "source": [
    "## Part 2\n",
    "For the next set of questions, we will be using census data from the [United States Census Bureau](http://www.census.gov/popest/data/counties/totals/2015/CO-EST2015-alldata.html). Counties are political and geographic subdivisions of states in the United States. This dataset contains population data for counties and states in the US from 2010 to 2015. [See this document](http://www.census.gov/popest/data/counties/totals/2015/files/CO-EST2015-alldata.pdf) for a description of the variable names.\n",
    "\n",
    "The census dataset (census.csv) should be loaded as census_df. Answer questions using this as appropriate.\n",
    "\n",
    "### Question 5\n",
    "Which state has the most counties in it? (hint: consider the sumlevel key carefully! You'll need this for future questions too...)\n",
    "\n",
    "*This function should return a single string value.*"
   ]
  },
  {
   "cell_type": "code",
   "execution_count": 7,
   "metadata": {
    "collapsed": false
   },
   "outputs": [
    {
     "data": {
      "text/html": [
       "<div>\n",
       "<table border=\"1\" class=\"dataframe\">\n",
       "  <thead>\n",
       "    <tr style=\"text-align: right;\">\n",
       "      <th></th>\n",
       "      <th>SUMLEV</th>\n",
       "      <th>REGION</th>\n",
       "      <th>DIVISION</th>\n",
       "      <th>STATE</th>\n",
       "      <th>COUNTY</th>\n",
       "      <th>STNAME</th>\n",
       "      <th>CTYNAME</th>\n",
       "      <th>CENSUS2010POP</th>\n",
       "      <th>ESTIMATESBASE2010</th>\n",
       "      <th>POPESTIMATE2010</th>\n",
       "      <th>...</th>\n",
       "      <th>RDOMESTICMIG2011</th>\n",
       "      <th>RDOMESTICMIG2012</th>\n",
       "      <th>RDOMESTICMIG2013</th>\n",
       "      <th>RDOMESTICMIG2014</th>\n",
       "      <th>RDOMESTICMIG2015</th>\n",
       "      <th>RNETMIG2011</th>\n",
       "      <th>RNETMIG2012</th>\n",
       "      <th>RNETMIG2013</th>\n",
       "      <th>RNETMIG2014</th>\n",
       "      <th>RNETMIG2015</th>\n",
       "    </tr>\n",
       "  </thead>\n",
       "  <tbody>\n",
       "    <tr>\n",
       "      <th>0</th>\n",
       "      <td>40</td>\n",
       "      <td>3</td>\n",
       "      <td>6</td>\n",
       "      <td>1</td>\n",
       "      <td>0</td>\n",
       "      <td>Alabama</td>\n",
       "      <td>Alabama</td>\n",
       "      <td>4779736</td>\n",
       "      <td>4780127</td>\n",
       "      <td>4785161</td>\n",
       "      <td>...</td>\n",
       "      <td>0.002295</td>\n",
       "      <td>-0.193196</td>\n",
       "      <td>0.381066</td>\n",
       "      <td>0.582002</td>\n",
       "      <td>-0.467369</td>\n",
       "      <td>1.030015</td>\n",
       "      <td>0.826644</td>\n",
       "      <td>1.383282</td>\n",
       "      <td>1.724718</td>\n",
       "      <td>0.712594</td>\n",
       "    </tr>\n",
       "    <tr>\n",
       "      <th>1</th>\n",
       "      <td>50</td>\n",
       "      <td>3</td>\n",
       "      <td>6</td>\n",
       "      <td>1</td>\n",
       "      <td>1</td>\n",
       "      <td>Alabama</td>\n",
       "      <td>Autauga County</td>\n",
       "      <td>54571</td>\n",
       "      <td>54571</td>\n",
       "      <td>54660</td>\n",
       "      <td>...</td>\n",
       "      <td>7.242091</td>\n",
       "      <td>-2.915927</td>\n",
       "      <td>-3.012349</td>\n",
       "      <td>2.265971</td>\n",
       "      <td>-2.530799</td>\n",
       "      <td>7.606016</td>\n",
       "      <td>-2.626146</td>\n",
       "      <td>-2.722002</td>\n",
       "      <td>2.592270</td>\n",
       "      <td>-2.187333</td>\n",
       "    </tr>\n",
       "    <tr>\n",
       "      <th>2</th>\n",
       "      <td>50</td>\n",
       "      <td>3</td>\n",
       "      <td>6</td>\n",
       "      <td>1</td>\n",
       "      <td>3</td>\n",
       "      <td>Alabama</td>\n",
       "      <td>Baldwin County</td>\n",
       "      <td>182265</td>\n",
       "      <td>182265</td>\n",
       "      <td>183193</td>\n",
       "      <td>...</td>\n",
       "      <td>14.832960</td>\n",
       "      <td>17.647293</td>\n",
       "      <td>21.845705</td>\n",
       "      <td>19.243287</td>\n",
       "      <td>17.197872</td>\n",
       "      <td>15.844176</td>\n",
       "      <td>18.559627</td>\n",
       "      <td>22.727626</td>\n",
       "      <td>20.317142</td>\n",
       "      <td>18.293499</td>\n",
       "    </tr>\n",
       "    <tr>\n",
       "      <th>3</th>\n",
       "      <td>50</td>\n",
       "      <td>3</td>\n",
       "      <td>6</td>\n",
       "      <td>1</td>\n",
       "      <td>5</td>\n",
       "      <td>Alabama</td>\n",
       "      <td>Barbour County</td>\n",
       "      <td>27457</td>\n",
       "      <td>27457</td>\n",
       "      <td>27341</td>\n",
       "      <td>...</td>\n",
       "      <td>-4.728132</td>\n",
       "      <td>-2.500690</td>\n",
       "      <td>-7.056824</td>\n",
       "      <td>-3.904217</td>\n",
       "      <td>-10.543299</td>\n",
       "      <td>-4.874741</td>\n",
       "      <td>-2.758113</td>\n",
       "      <td>-7.167664</td>\n",
       "      <td>-3.978583</td>\n",
       "      <td>-10.543299</td>\n",
       "    </tr>\n",
       "    <tr>\n",
       "      <th>4</th>\n",
       "      <td>50</td>\n",
       "      <td>3</td>\n",
       "      <td>6</td>\n",
       "      <td>1</td>\n",
       "      <td>7</td>\n",
       "      <td>Alabama</td>\n",
       "      <td>Bibb County</td>\n",
       "      <td>22915</td>\n",
       "      <td>22919</td>\n",
       "      <td>22861</td>\n",
       "      <td>...</td>\n",
       "      <td>-5.527043</td>\n",
       "      <td>-5.068871</td>\n",
       "      <td>-6.201001</td>\n",
       "      <td>-0.177537</td>\n",
       "      <td>0.177258</td>\n",
       "      <td>-5.088389</td>\n",
       "      <td>-4.363636</td>\n",
       "      <td>-5.403729</td>\n",
       "      <td>0.754533</td>\n",
       "      <td>1.107861</td>\n",
       "    </tr>\n",
       "  </tbody>\n",
       "</table>\n",
       "<p>5 rows × 100 columns</p>\n",
       "</div>"
      ],
      "text/plain": [
       "   SUMLEV  REGION  DIVISION  STATE  COUNTY   STNAME         CTYNAME  \\\n",
       "0      40       3         6      1       0  Alabama         Alabama   \n",
       "1      50       3         6      1       1  Alabama  Autauga County   \n",
       "2      50       3         6      1       3  Alabama  Baldwin County   \n",
       "3      50       3         6      1       5  Alabama  Barbour County   \n",
       "4      50       3         6      1       7  Alabama     Bibb County   \n",
       "\n",
       "   CENSUS2010POP  ESTIMATESBASE2010  POPESTIMATE2010     ...       \\\n",
       "0        4779736            4780127          4785161     ...        \n",
       "1          54571              54571            54660     ...        \n",
       "2         182265             182265           183193     ...        \n",
       "3          27457              27457            27341     ...        \n",
       "4          22915              22919            22861     ...        \n",
       "\n",
       "   RDOMESTICMIG2011  RDOMESTICMIG2012  RDOMESTICMIG2013  RDOMESTICMIG2014  \\\n",
       "0          0.002295         -0.193196          0.381066          0.582002   \n",
       "1          7.242091         -2.915927         -3.012349          2.265971   \n",
       "2         14.832960         17.647293         21.845705         19.243287   \n",
       "3         -4.728132         -2.500690         -7.056824         -3.904217   \n",
       "4         -5.527043         -5.068871         -6.201001         -0.177537   \n",
       "\n",
       "   RDOMESTICMIG2015  RNETMIG2011  RNETMIG2012  RNETMIG2013  RNETMIG2014  \\\n",
       "0         -0.467369     1.030015     0.826644     1.383282     1.724718   \n",
       "1         -2.530799     7.606016    -2.626146    -2.722002     2.592270   \n",
       "2         17.197872    15.844176    18.559627    22.727626    20.317142   \n",
       "3        -10.543299    -4.874741    -2.758113    -7.167664    -3.978583   \n",
       "4          0.177258    -5.088389    -4.363636    -5.403729     0.754533   \n",
       "\n",
       "   RNETMIG2015  \n",
       "0     0.712594  \n",
       "1    -2.187333  \n",
       "2    18.293499  \n",
       "3   -10.543299  \n",
       "4     1.107861  \n",
       "\n",
       "[5 rows x 100 columns]"
      ]
     },
     "execution_count": 7,
     "metadata": {},
     "output_type": "execute_result"
    }
   ],
   "source": [
    "census_df = pd.read_csv('census.csv')\n",
    "census_df.head()"
   ]
  },
  {
   "cell_type": "code",
   "execution_count": 8,
   "metadata": {
    "collapsed": false
   },
   "outputs": [
    {
     "data": {
      "text/plain": [
       "'Texas'"
      ]
     },
     "execution_count": 8,
     "metadata": {},
     "output_type": "execute_result"
    }
   ],
   "source": [
    "def answer_five():\n",
    "    county_sum = census_df.where(census_df['SUMLEV']==50)\n",
    "    county_sum = county_sum.dropna()\n",
    "    county_sum = county_sum.set_index(['STNAME','CTYNAME'])\n",
    "    county_sum = county_sum.sort_index()\n",
    "    max_counties= (county_sum.sum(0,None,level=['STNAME'])['COUNTY'].max())\n",
    "    county_sum = (county_sum.sum(0,None,level=['STNAME'])['COUNTY']==max_counties)\n",
    "    county_sum = county_sum[county_sum].reset_index()\n",
    "    return county_sum['STNAME'].iloc[0]\n",
    "answer_five()"
   ]
  },
  {
   "cell_type": "markdown",
   "metadata": {},
   "source": [
    "### Question 6\n",
    "Only looking at the three most populous counties for each state, what are the three most populous states (in order of highest population to lowest population)? Use `CENSUS2010POP`.\n",
    "\n",
    "*This function should return a list of string values.*"
   ]
  },
  {
   "cell_type": "code",
   "execution_count": 9,
   "metadata": {
    "collapsed": false
   },
   "outputs": [
    {
     "data": {
      "text/plain": [
       "['California', 'Texas', 'Illinois']"
      ]
     },
     "execution_count": 9,
     "metadata": {},
     "output_type": "execute_result"
    }
   ],
   "source": [
    "def answer_six():\n",
    "    all_counties = census_df.where(census_df['SUMLEV']==50)\n",
    "    all_counties = all_counties.dropna()\n",
    "    all_counties['RANK'] = all_counties.groupby(['STNAME'])['CENSUS2010POP'].rank(ascending=False)\n",
    "    all_counties['RANK3'] = all_counties['RANK']<=3\n",
    "    all_counties = all_counties.where(all_counties['RANK3']==True)\n",
    "    all_counties = all_counties.dropna()\n",
    "    all_counties = all_counties.set_index(['STNAME','RANK']) \n",
    "    top3_cities = all_counties.sort_index()\n",
    "    top3_states = top3_cities.sum(0,None,level=['STNAME'])\n",
    "    top3_states['STATE_RANK'] = top3_states['CENSUS2010POP'].rank(ascending=False)\n",
    "    top3_states = top3_states.reset_index()\n",
    "    top3_states = top3_states.set_index(['STATE_RANK'])\n",
    "    top3_states = top3_states.sort_index()\n",
    "    return top3_states.head(3)['STNAME'].tolist()\n",
    "answer_six()"
   ]
  },
  {
   "cell_type": "markdown",
   "metadata": {},
   "source": [
    "# Question 7\n",
    "Which county has had the largest absolute change in population within the period 2010-2015? (Hint: population values are stored in columns POPESTIMATE2010 through POPESTIMATE2015, you need to consider all six columns.)\n",
    "\n",
    "e.g. If County Population in the 5 year period is 100, 120, 80, 105, 100, 130, then its largest change in the period would be |130-80| = 50.\n",
    "\n",
    "*This function should return a single string value.*"
   ]
  },
  {
   "cell_type": "code",
   "execution_count": 10,
   "metadata": {
    "collapsed": false
   },
   "outputs": [
    {
     "data": {
      "text/plain": [
       "'Harris County'"
      ]
     },
     "execution_count": 10,
     "metadata": {},
     "output_type": "execute_result"
    }
   ],
   "source": [
    "def answer_seven():\n",
    "    all_counties = census_df.where(census_df['SUMLEV']==50)\n",
    "    all_counties = all_counties.dropna()\n",
    "    all_counties['CMAX'] =  all_counties[['POPESTIMATE2010','POPESTIMATE2011',\n",
    "                                          'POPESTIMATE2012','POPESTIMATE2013',\n",
    "                                          'POPESTIMATE2014','POPESTIMATE2015']].max(axis=1)\n",
    "    all_counties['CMIN'] =  all_counties[['POPESTIMATE2010','POPESTIMATE2011',\n",
    "                                          'POPESTIMATE2012','POPESTIMATE2013',\n",
    "                                          'POPESTIMATE2014','POPESTIMATE2015']].min(axis=1)\n",
    "    all_counties['CDIFF'] =  all_counties['CMAX'] - all_counties['CMIN']\n",
    "    max_diff = all_counties['CDIFF'].max()\n",
    "    return all_counties[all_counties['CDIFF']==max_diff]['CTYNAME'].iloc[0]\n",
    "answer_seven()"
   ]
  },
  {
   "cell_type": "markdown",
   "metadata": {},
   "source": [
    "### Question 8\n",
    "In this datafile, the United States is broken up into four regions using the \"REGION\" column. \n",
    "\n",
    "Create a query that finds the counties that belong to regions 1 or 2, whose name starts with 'Washington', and whose POPESTIMATE2015 was greater than their POPESTIMATE 2014.\n",
    "\n",
    "*This function should return a 5x2 DataFrame with the columns = ['STNAME', 'CTYNAME'] and the same index ID as the census_df (sorted ascending by region_df['CTYNAME']index).*"
   ]
  },
  {
   "cell_type": "code",
   "execution_count": 11,
   "metadata": {
    "collapsed": false
   },
   "outputs": [
    {
     "data": {
      "text/html": [
       "<div>\n",
       "<table border=\"1\" class=\"dataframe\">\n",
       "  <thead>\n",
       "    <tr style=\"text-align: right;\">\n",
       "      <th></th>\n",
       "      <th>STNAME</th>\n",
       "      <th>CTYNAME</th>\n",
       "    </tr>\n",
       "  </thead>\n",
       "  <tbody>\n",
       "    <tr>\n",
       "      <th>896</th>\n",
       "      <td>Iowa</td>\n",
       "      <td>Washington County</td>\n",
       "    </tr>\n",
       "    <tr>\n",
       "      <th>1419</th>\n",
       "      <td>Minnesota</td>\n",
       "      <td>Washington County</td>\n",
       "    </tr>\n",
       "    <tr>\n",
       "      <th>2345</th>\n",
       "      <td>Pennsylvania</td>\n",
       "      <td>Washington County</td>\n",
       "    </tr>\n",
       "    <tr>\n",
       "      <th>2355</th>\n",
       "      <td>Rhode Island</td>\n",
       "      <td>Washington County</td>\n",
       "    </tr>\n",
       "    <tr>\n",
       "      <th>3163</th>\n",
       "      <td>Wisconsin</td>\n",
       "      <td>Washington County</td>\n",
       "    </tr>\n",
       "  </tbody>\n",
       "</table>\n",
       "</div>"
      ],
      "text/plain": [
       "            STNAME            CTYNAME\n",
       "896           Iowa  Washington County\n",
       "1419     Minnesota  Washington County\n",
       "2345  Pennsylvania  Washington County\n",
       "2355  Rhode Island  Washington County\n",
       "3163     Wisconsin  Washington County"
      ]
     },
     "execution_count": 11,
     "metadata": {},
     "output_type": "execute_result"
    }
   ],
   "source": [
    "def answer_eight():\n",
    "    all_counties = census_df.where(census_df['SUMLEV']==50)\n",
    "    all_counties = all_counties.dropna()\n",
    "    region_df = all_counties.where((all_counties['REGION']==1) | (all_counties['REGION']==2))\n",
    "    region_df = region_df.loc[region_df['CTYNAME'].str.startswith(\"Washington\",na=False)]\n",
    "    region_df = region_df[region_df['POPESTIMATE2015'] > region_df['POPESTIMATE2014']]\n",
    "    return region_df[['STNAME', 'CTYNAME']]\n",
    "answer_eight()"
   ]
  },
  {
   "cell_type": "code",
   "execution_count": 17,
   "metadata": {
    "collapsed": false
   },
   "outputs": [
    {
     "name": "stdout",
     "output_type": "stream",
     "text": [
      "                             POPESTIMATE2015                                  \\\n",
      "REGION                                     1          2          3         4   \n",
      "STNAME    CTYNAME                                                              \n",
      "Alabama   Alabama                        NaN        NaN  4858979.0       NaN   \n",
      "          Autauga County                 NaN        NaN    55347.0       NaN   \n",
      "          Baldwin County                 NaN        NaN   203709.0       NaN   \n",
      "          Barbour County                 NaN        NaN    26489.0       NaN   \n",
      "          Bibb County                    NaN        NaN    22583.0       NaN   \n",
      "          Blount County                  NaN        NaN    57673.0       NaN   \n",
      "          Bullock County                 NaN        NaN    10696.0       NaN   \n",
      "          Butler County                  NaN        NaN    20154.0       NaN   \n",
      "          Calhoun County                 NaN        NaN   115620.0       NaN   \n",
      "          Chambers County                NaN        NaN    34123.0       NaN   \n",
      "          Cherokee County                NaN        NaN    25859.0       NaN   \n",
      "          Chilton County                 NaN        NaN    43943.0       NaN   \n",
      "          Choctaw County                 NaN        NaN    13170.0       NaN   \n",
      "          Clarke County                  NaN        NaN    24675.0       NaN   \n",
      "          Clay County                    NaN        NaN    13555.0       NaN   \n",
      "          Cleburne County                NaN        NaN    15018.0       NaN   \n",
      "          Coffee County                  NaN        NaN    51211.0       NaN   \n",
      "          Colbert County                 NaN        NaN    54354.0       NaN   \n",
      "          Conecuh County                 NaN        NaN    12672.0       NaN   \n",
      "          Coosa County                   NaN        NaN    10724.0       NaN   \n",
      "          Covington County               NaN        NaN    37835.0       NaN   \n",
      "          Crenshaw County                NaN        NaN    13963.0       NaN   \n",
      "          Cullman County                 NaN        NaN    82005.0       NaN   \n",
      "          Dale County                    NaN        NaN    49565.0       NaN   \n",
      "          Dallas County                  NaN        NaN    41131.0       NaN   \n",
      "          DeKalb County                  NaN        NaN    71130.0       NaN   \n",
      "          Elmore County                  NaN        NaN    81468.0       NaN   \n",
      "          Escambia County                NaN        NaN    37789.0       NaN   \n",
      "          Etowah County                  NaN        NaN   103057.0       NaN   \n",
      "          Fayette County                 NaN        NaN    16759.0       NaN   \n",
      "...                                      ...        ...        ...       ...   \n",
      "Wisconsin Waukesha County                NaN   396488.0        NaN       NaN   \n",
      "          Waupaca County                 NaN    51945.0        NaN       NaN   \n",
      "          Waushara County                NaN    24033.0        NaN       NaN   \n",
      "          Winnebago County               NaN   169546.0        NaN       NaN   \n",
      "          Wisconsin                      NaN  5771337.0        NaN       NaN   \n",
      "          Wood County                    NaN    73435.0        NaN       NaN   \n",
      "Wyoming   Albany County                  NaN        NaN        NaN   37956.0   \n",
      "          Big Horn County                NaN        NaN        NaN   12022.0   \n",
      "          Campbell County                NaN        NaN        NaN   49220.0   \n",
      "          Carbon County                  NaN        NaN        NaN   15559.0   \n",
      "          Converse County                NaN        NaN        NaN   14236.0   \n",
      "          Crook County                   NaN        NaN        NaN    7444.0   \n",
      "          Fremont County                 NaN        NaN        NaN   40315.0   \n",
      "          Goshen County                  NaN        NaN        NaN   13383.0   \n",
      "          Hot Springs County             NaN        NaN        NaN    4741.0   \n",
      "          Johnson County                 NaN        NaN        NaN    8585.0   \n",
      "          Laramie County                 NaN        NaN        NaN   97121.0   \n",
      "          Lincoln County                 NaN        NaN        NaN   18722.0   \n",
      "          Natrona County                 NaN        NaN        NaN   82178.0   \n",
      "          Niobrara County                NaN        NaN        NaN    2542.0   \n",
      "          Park County                    NaN        NaN        NaN   29228.0   \n",
      "          Platte County                  NaN        NaN        NaN    8812.0   \n",
      "          Sheridan County                NaN        NaN        NaN   30009.0   \n",
      "          Sublette County                NaN        NaN        NaN    9899.0   \n",
      "          Sweetwater County              NaN        NaN        NaN   44626.0   \n",
      "          Teton County                   NaN        NaN        NaN   23125.0   \n",
      "          Uinta County                   NaN        NaN        NaN   20822.0   \n",
      "          Washakie County                NaN        NaN        NaN    8328.0   \n",
      "          Weston County                  NaN        NaN        NaN    7234.0   \n",
      "          Wyoming                        NaN        NaN        NaN  586107.0   \n",
      "\n",
      "                             POPESTIMATE2014                                  \n",
      "REGION                                     1          2          3         4  \n",
      "STNAME    CTYNAME                                                             \n",
      "Alabama   Alabama                        NaN        NaN  4846411.0       NaN  \n",
      "          Autauga County                 NaN        NaN    55290.0       NaN  \n",
      "          Baldwin County                 NaN        NaN   199713.0       NaN  \n",
      "          Barbour County                 NaN        NaN    26815.0       NaN  \n",
      "          Bibb County                    NaN        NaN    22549.0       NaN  \n",
      "          Blount County                  NaN        NaN    57658.0       NaN  \n",
      "          Bullock County                 NaN        NaN    10829.0       NaN  \n",
      "          Butler County                  NaN        NaN    20276.0       NaN  \n",
      "          Calhoun County                 NaN        NaN   115993.0       NaN  \n",
      "          Chambers County                NaN        NaN    34052.0       NaN  \n",
      "          Cherokee County                NaN        NaN    25995.0       NaN  \n",
      "          Chilton County                 NaN        NaN    43921.0       NaN  \n",
      "          Choctaw County                 NaN        NaN    13289.0       NaN  \n",
      "          Clarke County                  NaN        NaN    24847.0       NaN  \n",
      "          Clay County                    NaN        NaN    13538.0       NaN  \n",
      "          Cleburne County                NaN        NaN    15072.0       NaN  \n",
      "          Coffee County                  NaN        NaN    50831.0       NaN  \n",
      "          Colbert County                 NaN        NaN    54480.0       NaN  \n",
      "          Conecuh County                 NaN        NaN    12662.0       NaN  \n",
      "          Coosa County                   NaN        NaN    10807.0       NaN  \n",
      "          Covington County               NaN        NaN    37888.0       NaN  \n",
      "          Crenshaw County                NaN        NaN    13948.0       NaN  \n",
      "          Cullman County                 NaN        NaN    81221.0       NaN  \n",
      "          Dale County                    NaN        NaN    49501.0       NaN  \n",
      "          Dallas County                  NaN        NaN    41662.0       NaN  \n",
      "          DeKalb County                  NaN        NaN    71012.0       NaN  \n",
      "          Elmore County                  NaN        NaN    81022.0       NaN  \n",
      "          Escambia County                NaN        NaN    37784.0       NaN  \n",
      "          Etowah County                  NaN        NaN   103452.0       NaN  \n",
      "          Fayette County                 NaN        NaN    16842.0       NaN  \n",
      "...                                      ...        ...        ...       ...  \n",
      "Wisconsin Waukesha County                NaN   395335.0        NaN       NaN  \n",
      "          Waupaca County                 NaN    52088.0        NaN       NaN  \n",
      "          Waushara County                NaN    24173.0        NaN       NaN  \n",
      "          Winnebago County               NaN   169639.0        NaN       NaN  \n",
      "          Wisconsin                      NaN  5759432.0        NaN       NaN  \n",
      "          Wood County                    NaN    73597.0        NaN       NaN  \n",
      "Wyoming   Albany County                  NaN        NaN        NaN   37918.0  \n",
      "          Big Horn County                NaN        NaN        NaN   11919.0  \n",
      "          Campbell County                NaN        NaN        NaN   48243.0  \n",
      "          Carbon County                  NaN        NaN        NaN   15856.0  \n",
      "          Converse County                NaN        NaN        NaN   14172.0  \n",
      "          Crook County                   NaN        NaN        NaN    7264.0  \n",
      "          Fremont County                 NaN        NaN        NaN   40717.0  \n",
      "          Goshen County                  NaN        NaN        NaN   13509.0  \n",
      "          Hot Springs County             NaN        NaN        NaN    4793.0  \n",
      "          Johnson County                 NaN        NaN        NaN    8552.0  \n",
      "          Laramie County                 NaN        NaN        NaN   96469.0  \n",
      "          Lincoln County                 NaN        NaN        NaN   18564.0  \n",
      "          Natrona County                 NaN        NaN        NaN   81603.0  \n",
      "          Niobrara County                NaN        NaN        NaN    2530.0  \n",
      "          Park County                    NaN        NaN        NaN   29126.0  \n",
      "          Platte County                  NaN        NaN        NaN    8776.0  \n",
      "          Sheridan County                NaN        NaN        NaN   30020.0  \n",
      "          Sublette County                NaN        NaN        NaN   10039.0  \n",
      "          Sweetwater County              NaN        NaN        NaN   44925.0  \n",
      "          Teton County                   NaN        NaN        NaN   22905.0  \n",
      "          Uinta County                   NaN        NaN        NaN   20903.0  \n",
      "          Washakie County                NaN        NaN        NaN    8316.0  \n",
      "          Weston County                  NaN        NaN        NaN    7185.0  \n",
      "          Wyoming                        NaN        NaN        NaN  584304.0  \n",
      "\n",
      "[3192 rows x 8 columns]\n"
     ]
    }
   ],
   "source": [
    "import numpy as np\n",
    "test = census_df.pivot_table(values=['POPESTIMATE2015','POPESTIMATE2014'],\n",
    "index=['STNAME','CTYNAME'], \n",
    "columns=['REGION'],\n",
    "aggfunc=np.mean)\n",
    "print(test)"
   ]
  },
  {
   "cell_type": "code",
   "execution_count": null,
   "metadata": {
    "collapsed": true
   },
   "outputs": [],
   "source": []
  }
 ],
 "metadata": {
  "anaconda-cloud": {},
  "coursera": {
   "course_slug": "python-data-analysis",
   "graded_item_id": "tHmgx",
   "launcher_item_id": "Um6Bz",
   "part_id": "OQsnr"
  },
  "kernelspec": {
   "display_name": "Python [default]",
   "language": "python",
   "name": "python3"
  },
  "language_info": {
   "codemirror_mode": {
    "name": "ipython",
    "version": 3
   },
   "file_extension": ".py",
   "mimetype": "text/x-python",
   "name": "python",
   "nbconvert_exporter": "python",
   "pygments_lexer": "ipython3",
   "version": "3.5.2"
  }
 },
 "nbformat": 4,
 "nbformat_minor": 0
}
