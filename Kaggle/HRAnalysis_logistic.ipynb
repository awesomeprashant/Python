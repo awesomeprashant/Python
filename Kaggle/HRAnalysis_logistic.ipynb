{
 "cells": [
  {
   "cell_type": "code",
   "execution_count": 89,
   "metadata": {
    "collapsed": false
   },
   "outputs": [],
   "source": [
    "import numpy as np \n",
    "import pandas as pd \n",
    "import seaborn as sns\n",
    "import matplotlib.pyplot as plt\n",
    "\n",
    "\n",
    "\n",
    "\n",
    "hr_df = pd.read_csv('../input/HR_comma_sep.csv')\n",
    "hr_df['dept'] = hr_df['sales']\n",
    "del hr_df['sales']\n",
    "\n",
    "hr_df_label = hr_df.pop('left')\n",
    "#print(hr_df_label)\n",
    "from sklearn.model_selection import train_test_split\n",
    "data_train, data_test, label_train, label_test  = train_test_split(hr_df, hr_df_label, test_size = 0.4, random_state = 1500)\n",
    "\n"
   ]
  },
  {
   "cell_type": "code",
   "execution_count": 90,
   "metadata": {
    "collapsed": false
   },
   "outputs": [
    {
     "name": "stdout",
     "output_type": "stream",
     "text": [
      "[ 1.11839187]\n",
      "[[-3.77998041 -1.45906686 -1.26587847]]\n",
      "0.76841871319\n"
     ]
    },
    {
     "data": {
      "text/html": [
       "<div>\n",
       "<table border=\"1\" class=\"dataframe\">\n",
       "  <thead>\n",
       "    <tr style=\"text-align: right;\">\n",
       "      <th>left</th>\n",
       "      <th>0</th>\n",
       "      <th>1</th>\n",
       "    </tr>\n",
       "    <tr>\n",
       "      <th>row_0</th>\n",
       "      <th></th>\n",
       "      <th></th>\n",
       "    </tr>\n",
       "  </thead>\n",
       "  <tbody>\n",
       "    <tr>\n",
       "      <th>0</th>\n",
       "      <td>6380</td>\n",
       "      <td>1623</td>\n",
       "    </tr>\n",
       "    <tr>\n",
       "      <th>1</th>\n",
       "      <td>461</td>\n",
       "      <td>535</td>\n",
       "    </tr>\n",
       "  </tbody>\n",
       "</table>\n",
       "</div>"
      ],
      "text/plain": [
       "left      0     1\n",
       "row_0            \n",
       "0      6380  1623\n",
       "1       461   535"
      ]
     },
     "execution_count": 90,
     "metadata": {},
     "output_type": "execute_result"
    }
   ],
   "source": [
    "from sklearn import linear_model\n",
    "\n",
    "# Initialize logistic regression model\n",
    "log_model = linear_model.LogisticRegression()\n",
    "\n",
    "#consider only the parameter having \"coefficient\" > 1 \n",
    "train_features = pd.DataFrame([data_train['satisfaction_level'],\n",
    "                              data_train['Work_accident'],\n",
    "                              data_train['promotion_last_5years'] \n",
    "                              ]).T\n",
    "\n",
    "# Initialize logistic regression model\n",
    "log_model = linear_model.LogisticRegression()\n",
    "\n",
    "# Train the model\n",
    "log_model.fit(X = train_features ,\n",
    "              y = label_train)\n",
    "\n",
    "# Check trained model intercept\n",
    "print(log_model.intercept_)\n",
    "\n",
    "# Check trained model coefficients\n",
    "print(log_model.coef_)\n",
    "\n",
    "# Make predictions\n",
    "preds = log_model.predict(X= train_features)\n",
    "\n",
    "train_score = log_model.score(X = train_features ,\n",
    "                y = label_train)\n",
    "print(train_score)\n",
    "\n",
    "# Generate table of predictions vs actual\n",
    "pd.crosstab(preds,label_train)\n",
    "\n"
   ]
  },
  {
   "cell_type": "code",
   "execution_count": 91,
   "metadata": {
    "collapsed": false
   },
   "outputs": [
    {
     "name": "stdout",
     "output_type": "stream",
     "text": [
      "[ 1.05310391]\n",
      "[[-3.71748814 -1.34930671 -1.41414517]]\n",
      "0.776166666667\n"
     ]
    },
    {
     "data": {
      "text/html": [
       "<div>\n",
       "<table border=\"1\" class=\"dataframe\">\n",
       "  <thead>\n",
       "    <tr style=\"text-align: right;\">\n",
       "      <th>left</th>\n",
       "      <th>0</th>\n",
       "      <th>1</th>\n",
       "    </tr>\n",
       "    <tr>\n",
       "      <th>row_0</th>\n",
       "      <th></th>\n",
       "      <th></th>\n",
       "    </tr>\n",
       "  </thead>\n",
       "  <tbody>\n",
       "    <tr>\n",
       "      <th>0</th>\n",
       "      <td>4297</td>\n",
       "      <td>1053</td>\n",
       "    </tr>\n",
       "    <tr>\n",
       "      <th>1</th>\n",
       "      <td>290</td>\n",
       "      <td>360</td>\n",
       "    </tr>\n",
       "  </tbody>\n",
       "</table>\n",
       "</div>"
      ],
      "text/plain": [
       "left      0     1\n",
       "row_0            \n",
       "0      4297  1053\n",
       "1       290   360"
      ]
     },
     "execution_count": 91,
     "metadata": {},
     "output_type": "execute_result"
    }
   ],
   "source": [
    "# Test the model\n",
    "test_features = pd.DataFrame([data_test['satisfaction_level'],\n",
    "                              data_test['Work_accident'],\n",
    "                              data_test['promotion_last_5years'] \n",
    "                              ]).T\n",
    "\n",
    "log_model.fit(X = test_features ,\n",
    "              y = label_test)\n",
    "\n",
    "# Check trained model intercept\n",
    "print(log_model.intercept_)\n",
    "\n",
    "# Check trained model coefficients\n",
    "print(log_model.coef_)\n",
    "# Make predictions\n",
    "preds = log_model.predict(X= test_features)\n",
    "\n",
    "test_score = log_model.score(X = test_features ,\n",
    "                y = label_test)\n",
    "print(test_score)\n",
    "# Generate table of predictions vs actual\n",
    "pd.crosstab(preds,label_test)\n"
   ]
  },
  {
   "cell_type": "code",
   "execution_count": null,
   "metadata": {
    "collapsed": true
   },
   "outputs": [],
   "source": []
  },
  {
   "cell_type": "code",
   "execution_count": null,
   "metadata": {
    "collapsed": true
   },
   "outputs": [],
   "source": []
  }
 ],
 "metadata": {
  "anaconda-cloud": {},
  "kernelspec": {
   "display_name": "Python [default]",
   "language": "python",
   "name": "python3"
  },
  "language_info": {
   "codemirror_mode": {
    "name": "ipython",
    "version": 3
   },
   "file_extension": ".py",
   "mimetype": "text/x-python",
   "name": "python",
   "nbconvert_exporter": "python",
   "pygments_lexer": "ipython3",
   "version": "3.5.2"
  }
 },
 "nbformat": 4,
 "nbformat_minor": 1
}
