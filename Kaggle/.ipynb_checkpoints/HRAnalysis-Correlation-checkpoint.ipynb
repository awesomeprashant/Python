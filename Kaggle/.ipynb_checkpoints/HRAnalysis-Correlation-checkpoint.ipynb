{
 "cells": [
  {
   "cell_type": "code",
   "execution_count": 34,
   "metadata": {
    "collapsed": false
   },
   "outputs": [
    {
     "name": "stdout",
     "output_type": "stream",
     "text": [
      "index\n",
      "satisfaction_level      -0.388375\n",
      "salary                  -0.157898\n",
      "Work_accident           -0.154622\n",
      "promotion_last_5years   -0.061788\n",
      "dept                    -0.043814\n",
      "last_evaluation          0.006567\n",
      "number_project           0.023787\n",
      "average_montly_hours     0.071287\n",
      "time_spend_company       0.144822\n",
      "left                     1.000000\n",
      "Name: left, dtype: float64\n"
     ]
    },
    {
     "ename": "TypeError",
     "evalue": "cannot convert the series to <class 'float'>",
     "output_type": "error",
     "traceback": [
      "\u001b[0;31m---------------------------------------------------------------------------\u001b[0m",
      "\u001b[0;31mTypeError\u001b[0m                                 Traceback (most recent call last)",
      "\u001b[0;32m<ipython-input-34-10142250eae0>\u001b[0m in \u001b[0;36m<module>\u001b[0;34m()\u001b[0m\n\u001b[1;32m     35\u001b[0m     \u001b[1;32mreturn\u001b[0m \u001b[1;33m(\u001b[0m\u001b[1;36m1\u001b[0m\u001b[1;33m/\u001b[0m\u001b[1;33m(\u001b[0m\u001b[1;36m1\u001b[0m \u001b[1;33m+\u001b[0m \u001b[0mnp\u001b[0m\u001b[1;33m.\u001b[0m\u001b[0me\u001b[0m\u001b[1;33m**\u001b[0m\u001b[1;33m(\u001b[0m\u001b[1;33m-\u001b[0m\u001b[0mt\u001b[0m\u001b[1;33m)\u001b[0m\u001b[1;33m)\u001b[0m\u001b[1;33m)\u001b[0m\u001b[1;33m\u001b[0m\u001b[0m\n\u001b[1;32m     36\u001b[0m \u001b[1;33m\u001b[0m\u001b[0m\n\u001b[0;32m---> 37\u001b[0;31m \u001b[0mplot_range\u001b[0m \u001b[1;33m=\u001b[0m \u001b[0mnp\u001b[0m\u001b[1;33m.\u001b[0m\u001b[0marange\u001b[0m\u001b[1;33m(\u001b[0m\u001b[0mhr_df\u001b[0m\u001b[1;33m[\u001b[0m\u001b[1;34m'satisfaction_level'\u001b[0m\u001b[1;33m]\u001b[0m\u001b[1;33m)\u001b[0m \u001b[1;31m#np.arange(-5, 5, 0.05)\u001b[0m\u001b[1;33m\u001b[0m\u001b[0m\n\u001b[0m\u001b[1;32m     38\u001b[0m \u001b[1;33m\u001b[0m\u001b[0m\n\u001b[1;32m     39\u001b[0m \u001b[0my_values\u001b[0m \u001b[1;33m=\u001b[0m \u001b[0msigmoid\u001b[0m\u001b[1;33m(\u001b[0m\u001b[0mplot_range\u001b[0m\u001b[1;33m)\u001b[0m\u001b[1;33m\u001b[0m\u001b[0m\n",
      "\u001b[0;32mD:\\Python\\Anaconda3\\lib\\site-packages\\pandas\\core\\series.py\u001b[0m in \u001b[0;36mwrapper\u001b[0;34m(self)\u001b[0m\n\u001b[1;32m     76\u001b[0m             \u001b[1;32mreturn\u001b[0m \u001b[0mconverter\u001b[0m\u001b[1;33m(\u001b[0m\u001b[0mself\u001b[0m\u001b[1;33m.\u001b[0m\u001b[0miloc\u001b[0m\u001b[1;33m[\u001b[0m\u001b[1;36m0\u001b[0m\u001b[1;33m]\u001b[0m\u001b[1;33m)\u001b[0m\u001b[1;33m\u001b[0m\u001b[0m\n\u001b[1;32m     77\u001b[0m         raise TypeError(\"cannot convert the series to \"\n\u001b[0;32m---> 78\u001b[0;31m                         \"{0}\".format(str(converter)))\n\u001b[0m\u001b[1;32m     79\u001b[0m \u001b[1;33m\u001b[0m\u001b[0m\n\u001b[1;32m     80\u001b[0m     \u001b[1;32mreturn\u001b[0m \u001b[0mwrapper\u001b[0m\u001b[1;33m\u001b[0m\u001b[0m\n",
      "\u001b[0;31mTypeError\u001b[0m: cannot convert the series to <class 'float'>"
     ]
    }
   ],
   "source": [
    "import numpy as np \n",
    "import pandas as pd \n",
    "import seaborn as sns\n",
    "import matplotlib.pyplot as plt\n",
    "\n",
    "\n",
    "\n",
    "\n",
    "hr_df = pd.read_csv('../input/HR_comma_sep.csv')\n",
    "hr_df['dept'] = hr_df['sales']\n",
    "del hr_df['sales']\n",
    "\n",
    "#convert strings to number\n",
    "salary_dict = {'low': 1, 'medium': 2, 'high': 3}\n",
    "hr_df['salary'] = hr_df['salary'].apply(lambda x : salary_dict[x] )\n",
    "\n",
    "#print(salary_dict)\n",
    "dept_dict = {'sales': 1,'accounting': 2,'hr':3,'technical': 4,\n",
    "'support'     :    5,'management'  :    6, 'IT'          :    7, \n",
    "'product_mng' :    8, 'marketing'   :    9, 'RandD'       :   10}\n",
    "\n",
    "hr_df['dept'] = hr_df['dept'].apply(lambda x : dept_dict[x] )   \n",
    "\n",
    "corr = hr_df.corr().reset_index()\n",
    "#corr_left = pd.DataFrame(corr['left'].drop('left')).reset_index()\n",
    "corr_pivot= pd.pivot_table(corr,values='left',index='index',aggfunc=np.max)\n",
    "print(corr_pivot.sort_values(axis=0,inplace=False))\n",
    "\n",
    "#consider only the two criterias satisfaction_level  and time_spend_company           \n",
    "#we will use logistic regression first\n",
    "#plt.plot((hr_df.where(hr_df['left']==1)['satisfaction_level']))\n",
    "#plt.show()\n",
    "#Train-Test split\n",
    "#from sklearn.model_selection import train_test_split\n",
    "#label = hr_df.pop('left')\n",
    "#data_train, data_test, label_train, label_test = train_test_split(hr_df, label, test_size = 0.3, random_state = 42)\n",
    "#print(data_train, data_test, label_train, label_test)\n",
    "#hr_df.head()\n",
    "#hr_df.describe()\n",
    "#hr_df.where(hr_df['left']==0).dropna()['satisfaction_level']\n",
    "\n",
    "#Logistic Regression\n",
    "#from sklearn.linear_model import LogisticRegression\n",
    "#logis = LogisticRegression()\n",
    "#logis.fit(data_train, label_train)\n",
    "#logis_score_train = logis.score(data_train, label_train)\n",
    "#print(\"Training score: \",logis_score_train)\n",
    "#logis_score_test = logis.score(data_test, label_test)\n",
    "#print(\"Testing score: \",logis_score_test)\n"
   ]
  },
  {
   "cell_type": "code",
   "execution_count": null,
   "metadata": {
    "collapsed": false
   },
   "outputs": [],
   "source": []
  },
  {
   "cell_type": "code",
   "execution_count": null,
   "metadata": {
    "collapsed": true
   },
   "outputs": [],
   "source": []
  },
  {
   "cell_type": "code",
   "execution_count": null,
   "metadata": {
    "collapsed": true
   },
   "outputs": [],
   "source": []
  }
 ],
 "metadata": {
  "anaconda-cloud": {},
  "kernelspec": {
   "display_name": "Python [default]",
   "language": "python",
   "name": "python3"
  },
  "language_info": {
   "codemirror_mode": {
    "name": "ipython",
    "version": 3
   },
   "file_extension": ".py",
   "mimetype": "text/x-python",
   "name": "python",
   "nbconvert_exporter": "python",
   "pygments_lexer": "ipython3",
   "version": "3.5.2"
  }
 },
 "nbformat": 4,
 "nbformat_minor": 1
}
